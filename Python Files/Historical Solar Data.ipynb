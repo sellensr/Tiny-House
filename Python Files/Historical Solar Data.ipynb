{
 "cells": [
  {
   "cell_type": "code",
   "execution_count": null,
   "metadata": {},
   "outputs": [],
   "source": [
    "%matplotlib inline\n",
    "from matplotlib.pyplot import *\n",
    "from numpy import *\n",
    "# Don't import too much globally like we did pyplot and numpy\n",
    "# pandas will break datetime if they are imported globally.\n",
    "import datetime\n",
    "import pytz\n",
    "import pysolar\n",
    "import pandas              # pandas for data science\n",
    "\n",
    "# This lets you make the default figure size larger (or smaller)\n",
    "from IPython.core.pylabtools import figsize\n",
    "figsize(10, 5)"
   ]
  },
  {
   "cell_type": "markdown",
   "metadata": {},
   "source": [
    "## Solar Radiation from a Clear Sky\n",
    "The functions from the Solar Values notebook are repeated here so this notebook can stand alone."
   ]
  },
  {
   "cell_type": "code",
   "execution_count": null,
   "metadata": {},
   "outputs": [],
   "source": [
    "def solarR(d,elev = 0,dir = 180,latitude_deg = 44.2,longitude_deg = -76.5):\n",
    "    # solar radiation falling on a surface at compass angle dir\n",
    "    # and elevation angle elev under a clear sky at datetime d\n",
    "    # in Kingston, Ontario\n",
    "    rpd = pi / 180. # radians per degree\n",
    "    azi = pysolar.solar.get_azimuth(latitude_deg, longitude_deg, d)   # azimuth angle\n",
    "    alt = pysolar.solar.get_altitude(latitude_deg, longitude_deg, d)  # altitude angle\n",
    "    # Unit vector pointing at the sun. RHR coords with x west, y south\n",
    "    uVecSun = array([   sin((-180 + azi) * rpd) * cos(alt * rpd),\n",
    "                        cos((-180 + azi) * rpd) * cos(alt * rpd),\n",
    "                        sin(alt * rpd)])\n",
    "    # Unit vector normal to the panel. RHR coords with x west, y south\n",
    "    uVecPanel = array([ sin((-180 + dir) * rpd) * sin(elev * rpd),\n",
    "                        cos((-180 + dir) * rpd) * sin(elev * rpd),\n",
    "                        cos(elev * rpd)])\n",
    "    # Reduce by the dot product between the sun vector and the panel vector\n",
    "    rad = pysolar.solar.radiation.get_radiation_direct(d, alt) * dot(uVecSun,uVecPanel)\n",
    "    if rad < 0: rad = 0   # sun is behind panel\n",
    "    return rad\n",
    "\n",
    "el = 90            # elevation of the panel, 0 degrees for horizontal\n",
    "di = 180           # compass direction for the panel, 180 degrees for south\n",
    "\n",
    "timezone = pytz.timezone(\"America/Toronto\")  # includes Kingston\n"
   ]
  },
  {
   "cell_type": "markdown",
   "metadata": {},
   "source": [
    "## Typical Meteoroligical Year (TMY)\n",
    "In order to model building performance over time, you need extended historical data representing at least a full year. These Typical Meteorological Year (TMY) data sets can be enormous, with detailed information on temperature, humidity, sun, wind, etc. for a given location. We'll just look at a small excerpt. \n",
    "\n",
    "This data is for Toronto in the first 14 days of November 2013, providing outdoor temperature and solar radiation intensity on a south facing vertical surface like a window. It was provided by Prof. Steve Harrison of the Queen's Solar Calorimetry Lab housed in Mechanical and Materials Engineering. It seems reasonable to expect Toronto data to be similar to the situation in Kingston. To make sense of it, we should probably compare it to clear sky expectations for the same period of time. It's important to note that November is a gloomy month generally (averaging $2.41\\rm\\;kWh/m^2$ from the NRCan data) and this historical period looks especially gloomy.\n",
    "\n",
    "How well would your design function in a period with this little sunlight?"
   ]
  },
  {
   "cell_type": "code",
   "execution_count": null,
   "metadata": {},
   "outputs": [],
   "source": [
    "figsize(20, 5)\n",
    "\n",
    "dfTMY = pandas.read_csv('Toronto TMY Nov13.csv')\n",
    "#x = dfTMY.as_matrix()      # deprecated in pandas 0.23, values suggested as another option\n",
    "#x = dfTMY.values           # https://pandas.pydata.org/pandas-docs/stable/reference/api/pandas.DataFrame.values.html#pandas.DataFrame.values\n",
    "x = dfTMY.to_numpy()        # recommended, but new in pandas 0.24, not in my distribution as of 2019-05\n",
    "day = x[:,0].astype(int)\n",
    "hour = (24*(x[:,0]-day)).astype(int)\n",
    "minute = (60*24*(x[:,0]-day-hour/24)).astype(int)\n",
    "i = zeros(len(day))              # intensity vectors for differnet dates\n",
    "for j in range(0,len(day)): # for all the different hours in the day \n",
    "    # pysolar 0.8 requires timezone aware datetimes\n",
    "    d = timezone.localize(datetime.datetime(2013, 11, day[j]+1, hour[j], minute[j]))  # November 2013\n",
    "    i[j] = solarR(d,el,di)\n",
    "\n",
    "plot(x[:,0],i, label=\"Clear Skies\")\n",
    "plot(x[:,0],x[:,2], label = \"TMY Measured Values\")\n",
    "xlabel('Days of November 2013')\n",
    "ylabel('Solar Intensity on Vertical Surface [W/m**2]')\n",
    "grid()\n",
    "legend()\n",
    "# Average over the entire period and multiply by 24 hours per day.\n",
    "# Divide by 1000 for kiloWatts\n",
    "print('The mean daily insolation is {0:5.3f} kWh/m**2 for the Toronto TMY data.'.format(mean(x[:,2])*24/1000))\n",
    "print('The mean daily insolation is {0:5.3f} kWh/m**2 for clear skies in Kingston.'.format(mean(i)*24/1000))\n",
    "\n"
   ]
  },
  {
   "cell_type": "markdown",
   "metadata": {},
   "source": [
    "On sunny days the measured data is very close to the predicted clear sky values, which is reassuring. On gloomy days the total insolation can wind up at less than 10% of the clear sky values, as verfified in the calculations below."
   ]
  },
  {
   "cell_type": "code",
   "execution_count": null,
   "metadata": {},
   "outputs": [],
   "source": [
    "figsize(5, 5)\n",
    "\n",
    "dailyClear = zeros(14)\n",
    "dailyTMY = zeros(14)\n",
    "daily = zeros(14)\n",
    "for j in range(0,14):\n",
    "    daily[j] = j + 1   # the day number 1 to 14\n",
    "    # average over the 96 quarter hour readings for each day\n",
    "    dailyClear[j] = mean(i[j*96:(j+1)*96])*24/1000\n",
    "    dailyTMY[j] = mean(x[j*96:(j+1)*96,2])*24/1000    \n",
    "plot(daily,dailyTMY/dailyClear*100)\n",
    "ylim(0,110)\n",
    "grid()\n"
   ]
  },
  {
   "cell_type": "code",
   "execution_count": null,
   "metadata": {},
   "outputs": [],
   "source": []
  }
 ],
 "metadata": {
  "kernelspec": {
   "display_name": "Python 3",
   "language": "python",
   "name": "python3"
  },
  "language_info": {
   "codemirror_mode": {
    "name": "ipython",
    "version": 3
   },
   "file_extension": ".py",
   "mimetype": "text/x-python",
   "name": "python",
   "nbconvert_exporter": "python",
   "pygments_lexer": "ipython3",
   "version": "3.6.8"
  }
 },
 "nbformat": 4,
 "nbformat_minor": 2
}
