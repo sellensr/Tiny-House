{
 "cells": [
  {
   "cell_type": "code",
   "execution_count": null,
   "metadata": {},
   "outputs": [],
   "source": [
    "%matplotlib inline\n",
    "from matplotlib.pyplot import *\n",
    "from numpy import *\n",
    "# Don't import too much globally like we did pyplot and numpy\n",
    "# pandas will break datetime if they are imported globally.\n",
    "import datetime\n",
    "import pytz\n",
    "import pysolar\n",
    "import pandas              # pandas for data science\n",
    "\n",
    "# This lets you make the default figure size larger (or smaller)\n",
    "from IPython.core.pylabtools import figsize\n",
    "#figsize(8,8)"
   ]
  },
  {
   "cell_type": "markdown",
   "metadata": {},
   "source": [
    "## Solar Heat Gain in a Condo\n",
    "We can start by using the results from the previous Solar Values notebook to get sunlight falling on our windows over the course of a day."
   ]
  },
  {
   "cell_type": "code",
   "execution_count": null,
   "metadata": {},
   "outputs": [],
   "source": [
    "def solarR(d,elev = 0,dir = 180,latitude_deg = 44.2,longitude_deg = -76.5):\n",
    "    # solar radiation falling on a surface at compass angle dir\n",
    "    # and elevation angle elev under a clear sky at datetime d\n",
    "    # in Kingston, Ontario\n",
    "    rpd = pi / 180. # radians per degree\n",
    "    azi = pysolar.solar.get_azimuth(latitude_deg, longitude_deg, d)   # azimuth angle\n",
    "    alt = pysolar.solar.get_altitude(latitude_deg, longitude_deg, d)  # altitude angle\n",
    "    # Unit vector pointing at the sun. RHR coords with x west, y south\n",
    "    uVecSun = array([   sin((-180 + azi) * rpd) * cos(alt * rpd),\n",
    "                        cos((-180 + azi) * rpd) * cos(alt * rpd),\n",
    "                        sin(alt * rpd)])\n",
    "    # Unit vector normal to the panel. RHR coords with x west, y south\n",
    "    uVecPanel = array([ sin((-180 + dir) * rpd) * sin(elev * rpd),\n",
    "                        cos((-180 + dir) * rpd) * sin(elev * rpd),\n",
    "                        cos(elev * rpd)])\n",
    "    # Reduce by the dot product between the sun vector and the panel vector\n",
    "    rad = pysolar.solar.radiation.get_radiation_direct(d, alt) * dot(uVecSun,uVecPanel)\n",
    "    if rad < 0: rad = 0   # sun is behind panel\n",
    "    return rad"
   ]
  },
  {
   "cell_type": "markdown",
   "metadata": {},
   "source": [
    "## The windows are vertical and face south and it is January 26th."
   ]
  },
  {
   "cell_type": "code",
   "execution_count": null,
   "metadata": {},
   "outputs": [],
   "source": [
    "el = 90       # elevation of the panel, 0 degrees for horizontal\n",
    "di = 180      # compass direction for the panel, 180 degrees for south\n",
    "\n",
    "timezone = pytz.timezone(\"America/Toronto\")  # includes Kingston\n",
    "t = linspace(0,23.999,1000)    \n",
    "i = t.copy()              \n",
    "for j in range(0,len(t)): # for all the different hours in the day \n",
    "    th = int(t[j])        # convert to hours and minutes\n",
    "    tm = int((t[j]-th)*60)\n",
    "    # pysolar 0.8 requires timezone aware datetimes\n",
    "    d = timezone.localize(datetime.datetime(2019, 1, 26, th,tm))  \n",
    "    i[j] = solarR(d,el,di)\n",
    "\n",
    "plot(t,i,label = 'Vertical Surface, January 26th')\n",
    "grid()\n",
    "legend()\n",
    "xlim(0,24)\n",
    "xlabel('Local Time of Day [hours]')\n",
    "ylabel('Radiation Intensity [W/m**2]')"
   ]
  },
  {
   "cell_type": "markdown",
   "metadata": {},
   "source": [
    "## Integrate to get total energy (insolation) over the course of the day\n",
    "We can get a total insolation energy for the day by taking the mean of the intensity and multiplying by the number of hours we averaged over. The factor of 1000 converts from Watts to kiloWatts to MegaWatts and the factor of 3600 from hours to seconds. \n",
    "\n",
    "This is equivalent to doing a numerical integration of intensity over time, $\\int i\\,dt$.\n",
    "\n",
    "Note that both kilowatt hours and MegaJoules are convenient magnitudes as units for household heating energy. 1 kWh = 3.6 MJ. Stick with Joules in calculations for consistency, but consider converting to these units when printing results."
   ]
  },
  {
   "cell_type": "code",
   "execution_count": null,
   "metadata": {},
   "outputs": [],
   "source": [
    "daily = mean(i) * 24 / 1000\n",
    "print('For a panel facing compass direction {0:4d} deg and elevated {1:2d} deg above horizontal:'.format(di,el))\n",
    "print('  Mean Daily Insolation {0:5.2f} kWh/m**2 under Clear Skies ({1:5.2f} MJ/m**2)'.format(daily,daily*3600/1000))"
   ]
  },
  {
   "cell_type": "markdown",
   "metadata": {},
   "source": [
    "## Kingston is a pretty sunny place\n",
    "Still, we need data like https://www.nrcan.gc.ca/18366 to bring us back to the real world with geographic data for actual average insolation values. The Mean daily global insolation (kWh/m2 or full sun hours (h)) for January is 3.29 kWh daily for 1 square metre on a vertical surface like a window. On average only a fraction 3.29/5.06 = 0.65 of the solar radiation is getting through the clouds and weather.\n",
    "\n",
    "Of that reduced intensity, only a fraction of it is transmitted through the windows to warm the interior, maybe 60%, depending on the window design.\n",
    "\n",
    "Assuming we have 10 square metres of south facing windows, we can calculate the solar gain, $q_s$. \n",
    "\n",
    "At this stage we can choose the simple average day from the NRCan data, or we could go to historical data for actual insolation intensity as a function of time. Try different values of `clouds` and see what happens."
   ]
  },
  {
   "cell_type": "code",
   "execution_count": null,
   "metadata": {},
   "outputs": [],
   "source": [
    "clouds = 0.65         # a value between 0 and 1 for the amount of light getting through the clouds \n",
    "trans  = 0.60         # a value between 0 and 1 for the amount of light getting through the window\n",
    "Aw     = 10.0         # the surface area of the windows [m**2]\n",
    "qs = Aw * i * trans * clouds\n",
    "\n",
    "plot(t,qs,label = 'January 26th')\n",
    "grid()\n",
    "legend()\n",
    "xlim(0,24)\n",
    "xlabel('Local Time of Day [hours]')\n",
    "ylabel('Solar Heat Gain [W]')"
   ]
  },
  {
   "cell_type": "markdown",
   "metadata": {},
   "source": [
    "Assuming the heat is off, except for 500 W of nominal heat generation from people and appliances, etc., we can start out with the temperature indoors equal to 20C at midnight. The averaged thermal mass of the whole condo, air, furniture, appliances, construction materials means we are using a highly simplified model!"
   ]
  },
  {
   "cell_type": "code",
   "execution_count": null,
   "metadata": {},
   "outputs": [],
   "source": [
    "xAxis = zeros(len(t))\n",
    "qi = zeros(len(t))\n",
    "qa = ones(len(t))*500\n",
    "Ti = ones(len(t))*20\n",
    "To = ones(len(t))*-9\n",
    "mCp = 30000000     # [J/C] thermal mass of the condo\n",
    "lossFactor = 72    # [W/C] lost through the walls, windows and infiltration = 3.3 kW at 45C delta T"
   ]
  },
  {
   "cell_type": "markdown",
   "metadata": {},
   "source": [
    "We don't know how the temperature is changing yet, but we can calculate rates of change and follow it through time steps of dt. That will also let us track the heat losses. The intial rate of change of temperature with time $dT_i/dt$ shouldn't disagree too much with what we actually observe."
   ]
  },
  {
   "cell_type": "code",
   "execution_count": null,
   "metadata": {},
   "outputs": [],
   "source": [
    "dTdt = zeros(len(t))\n",
    "qo = zeros(len(t))\n",
    "qo[0] = (Ti[0]-To[0])*lossFactor\n",
    "dTdt[0] = (qi[0]+qa[0]+qs[0]-qo[0])/mCp\n",
    "dt = (t[1]-t[0])*3600   # delta t in seconds\n",
    "print('The temperature will initially change by {0:6.3f} degrees C per hour.'.format(dTdt[0]*3600))"
   ]
  },
  {
   "cell_type": "markdown",
   "metadata": {},
   "source": [
    "## No Heaters\n",
    "Now march along through time for all of the times in the day after the initial `t[0]`, starting with conditions at time `t[1]`. Euler's method uses the simplest possible first order estimate for the temperature at the new time. `qi[j]` is always equal to zero because the heaters aren't turned on. Unless there is a lot of sunshine, it will be colder at the end of the day than it was at the start.\n",
    "\n",
    "By repeating the calculation multiple times, starting each new day with the temperature at the end of the previous day, we will approach an equilibrium where those temperatures match."
   ]
  },
  {
   "cell_type": "code",
   "execution_count": null,
   "metadata": {},
   "outputs": [],
   "source": [
    "days = 5            # of days to run\n",
    "\n",
    "for i in range(0,days): # run multiple times to make midnight match\n",
    "    Ti[0] = Ti[len(t)-1]\n",
    "    heatIn = 0          # total energy in from heaters\n",
    "    heatInSolar = 0     # total energy in from solar\n",
    "    for j in range(1,len(t)):                       # Iterate through the full day\n",
    "        Ti[j] = Ti[j-1] + dTdt[j-1] * dt            # Euler estimate from previous dT/dt\n",
    "        qo[j] = (Ti[j] - To[j]) * lossFactor        # current loss rate\n",
    "        qi[j] = 0                                   # heat off\n",
    "        # Calculate current dT/dt for next iteration, based on heat balance\n",
    "        dTdt[j] = (qi[j] + qa[j] + qs[j] - qo[j]) / mCp    \n",
    "        heatIn += qi[j] * dt                        # W*s => J accumulated heat addition\n",
    "        heatInSolar += qs[j] * dt                   # W*s => J\n",
    "\n",
    "# draw the graph\n",
    "def drawHeatingHistory():\n",
    "    plot(t,Ti,label='Inside Temperature [C]')\n",
    "    plot(t,qo/100,label='Heat Loss [kW*10]')\n",
    "    plot(t,qa/100,label='Heat Gain Appliances, etc. [kW*10]')\n",
    "    plot(t,qs/100,label='Solar Heat Gain [kW*10]')\n",
    "    fill_between(t,xAxis,qi/100,label='Heater Output [kW*10]',alpha = 0.3)\n",
    "    xlim(0,24)\n",
    "    ylim(-2,50)\n",
    "    grid()\n",
    "    xlabel('Time of Day [h]')\n",
    "    ylabel('Indoor Temperature [C]')\n",
    "    legend(loc=2)\n",
    "    print('Total input from heating system = {0:9.0f} Joules or {1:5.2f} kWh'.format(heatIn,heatIn/3600000))\n",
    "    print('Total input from passive solar  = {0:9.0f} Joules or {1:5.2f} kWh'.format(heatInSolar,heatInSolar/3600000))\n",
    "    \n",
    "drawHeatingHistory()"
   ]
  },
  {
   "cell_type": "code",
   "execution_count": null,
   "metadata": {},
   "outputs": [],
   "source": []
  },
  {
   "cell_type": "markdown",
   "metadata": {},
   "source": [
    "## Heating On with SetPoint Control\n",
    "Now try it with the heaters turned on between a waking time in the morning and a sleep time in the evening. (A programmable thermostat might also switch off/down if you are away during the day.) This version simply turns the heaters full on if the temperature is below the Setpoint temperature. Controlling heat addition this way will result in rapid on/off cycling for for the heaters, so a practical thermostat will have set/reset control or something even more complex to reduce the cycling. If you see a section that fades towards the top for Heater Output, that's a region of rapid on/off cycling."
   ]
  },
  {
   "cell_type": "code",
   "execution_count": null,
   "metadata": {},
   "outputs": [],
   "source": [
    "qMax = 3300         # Maximum Heater Output [W]\n",
    "setPoint = 21       # set point [C] -- turn on if colder, turn off if warmer\n",
    "wake = 4.5          # hour to start heating, e.g. 6.5 = 06:30\n",
    "sleep = 22.0        # hour to stop heating, e.g. 22.0 = 22:00 = 10 PM\n",
    "\n",
    "for i in range(0,days): # run multiple times to make midnight match\n",
    "    Ti[0] = Ti[len(t)-1]\n",
    "    heatIn = 0          # total energy in from heaters\n",
    "    heatInSolar = 0     # total energy in from solar\n",
    "    for j in range(1,len(t)):                       # Iterate through the full day\n",
    "        Ti[j] = Ti[j-1] + dTdt[j-1] * dt            # Euler estimate from previous dT/dt\n",
    "        qo[j] = (Ti[j] - To[j]) * lossFactor        # current loss rate\n",
    "        # if the thermostat is awake and the temperature is below the set point\n",
    "        if(t[j] > wake and t[j] < sleep and Ti[j] < setPoint):\n",
    "            qi[j] = qMax                            # heat full on\n",
    "        else:\n",
    "            qi[j] = 0                               # heat off\n",
    "        # Calculate current dT/dt for next iteration, based on heat balance\n",
    "        dTdt[j] = (qi[j] + qa[j] + qs[j] - qo[j]) / mCp    \n",
    "        heatIn += qi[j] * dt                        # W*s => J accumulated heat addition\n",
    "        heatInSolar += qs[j] * dt                   # W*s => J\n",
    "    \n",
    "drawHeatingHistory()"
   ]
  },
  {
   "cell_type": "markdown",
   "metadata": {},
   "source": [
    "## Heat On with Set / Reset Control\n",
    "We can do the same calculation, but waiting until the temperature rises a noticeable amount before turning the heat back off. We can remember the current state of the heaters with `heatOn`."
   ]
  },
  {
   "cell_type": "code",
   "execution_count": null,
   "metadata": {},
   "outputs": [],
   "source": [
    "setPoint = 21.0              # Turn on if below this temperature [C]\n",
    "resetPoint = 21.2            # Turn off if above this temperature [C]\n",
    "heatOn = 0                   # 1 for heat full on, 0 for off\n",
    "\n",
    "#lossFactor *= 1.2           # uncomment these lines to see effects of\n",
    "#qs *=1.20                   # increasing losses or increasing solar gains\n",
    "\n",
    "for i in range(0,days): # run multiple times to make midnight match\n",
    "    Ti[0] = Ti[len(t)-1]\n",
    "    heatIn = 0\n",
    "    heatInSolar = 0\n",
    "    for j in range(1,len(t)):                       # Iterate through the full day\n",
    "        Ti[j] = Ti[j-1] + dTdt[j-1] * dt            # Euler estimate from previous dT/dt\n",
    "        qo[j] = (Ti[j] - To[j]) * lossFactor        # current loss rate\n",
    "        if(t[j] > wake and t[j] < sleep):               # if the thermostat is awake \n",
    "            if(Ti[j] < setPoint):                   # if temperature is below the set point\n",
    "                heatOn = 1                          # turn the heat on\n",
    "            if(Ti[j]>resetPoint):                   # if temperature is above reset point\n",
    "                heatOn = 0                          # turn heat off\n",
    "        else:\n",
    "            heatOn = 0                              # heat off when thermostat asleep\n",
    "        qi[j] = qMax * heatOn                       # full on or full off\n",
    "        # Calculate current dT/dt for next iteration, based on heat balance\n",
    "        dTdt[j] = (qi[j] + qa[j] + qs[j] - qo[j]) / mCp    \n",
    "        heatIn += qi[j] * dt                        # W*s => J accumulated heat addition\n",
    "        heatInSolar += qs[j] * dt                   # W*s => J\n",
    "    \n",
    "drawHeatingHistory()"
   ]
  },
  {
   "cell_type": "code",
   "execution_count": null,
   "metadata": {},
   "outputs": [],
   "source": []
  },
  {
   "cell_type": "code",
   "execution_count": null,
   "metadata": {},
   "outputs": [],
   "source": []
  },
  {
   "cell_type": "code",
   "execution_count": null,
   "metadata": {},
   "outputs": [],
   "source": []
  },
  {
   "cell_type": "code",
   "execution_count": null,
   "metadata": {},
   "outputs": [],
   "source": []
  },
  {
   "cell_type": "code",
   "execution_count": null,
   "metadata": {},
   "outputs": [],
   "source": []
  },
  {
   "cell_type": "code",
   "execution_count": null,
   "metadata": {},
   "outputs": [],
   "source": []
  },
  {
   "cell_type": "code",
   "execution_count": null,
   "metadata": {},
   "outputs": [],
   "source": []
  },
  {
   "cell_type": "code",
   "execution_count": null,
   "metadata": {},
   "outputs": [],
   "source": []
  },
  {
   "cell_type": "code",
   "execution_count": null,
   "metadata": {},
   "outputs": [],
   "source": []
  }
 ],
 "metadata": {
  "kernelspec": {
   "display_name": "Python 3",
   "language": "python",
   "name": "python3"
  },
  "language_info": {
   "codemirror_mode": {
    "name": "ipython",
    "version": 3
   },
   "file_extension": ".py",
   "mimetype": "text/x-python",
   "name": "python",
   "nbconvert_exporter": "python",
   "pygments_lexer": "ipython3",
   "version": "3.6.6"
  }
 },
 "nbformat": 4,
 "nbformat_minor": 2
}
