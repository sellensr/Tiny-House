{
 "cells": [
  {
   "cell_type": "code",
   "execution_count": null,
   "metadata": {},
   "outputs": [],
   "source": [
    "%matplotlib inline\n",
    "from matplotlib.pyplot import *\n",
    "from numpy import *\n",
    "# Don't import too much globally like we did pyplot and numpy\n",
    "# pandas will break datetime if they are imported globally.\n",
    "import datetime\n",
    "import pytz\n",
    "import pysolar\n",
    "import pandas              # pandas for data science\n",
    "\n",
    "# This lets you make the default figure size larger (or smaller)\n",
    "from IPython.core.pylabtools import figsize\n",
    "figsize(10, 5)"
   ]
  },
  {
   "cell_type": "markdown",
   "metadata": {},
   "source": [
    "## Solar Radiation from a Clear Sky\n",
    "The pysolar library provides functions to calculate the direct solar radiation intensity under a clear sky at a given location, accounting for attenuation through the atmosphere. This has to be further reduced because our panels are fixed and not tracking the sun, and to account for any shading by clouds or other obstructions. \n",
    "If pysolar is not already installed, you will need to open a terminal and type\n",
    "\n",
    "pip install pysolar\n",
    "\n",
    "or \n",
    "\n",
    "pip install --upgrade pysolar\n",
    "\n",
    "to get pysolar version 0.8 or higher. https://pysolar.readthedocs.io/en/latest/\n",
    "\n",
    "I've written the function solarR( ) to return the radiation received by a panel facing compass angle dir with surface at elevation angle elev under a clear sky. The defaults are a horizontal panel, facing south at a location in Kingston, Ontario, because that matches the situation on my sailboat. All angles are in degrees."
   ]
  },
  {
   "cell_type": "code",
   "execution_count": null,
   "metadata": {},
   "outputs": [],
   "source": [
    "def solarR(d,elev = 0,dir = 180,latitude_deg = 44.2,longitude_deg = -76.5):\n",
    "    # solar radiation falling on a surface at compass angle dir\n",
    "    # and elevation angle elev under a clear sky at datetime d\n",
    "    # in Kingston, Ontario\n",
    "    rpd = pi / 180. # radians per degree\n",
    "    azi = pysolar.solar.get_azimuth(latitude_deg, longitude_deg, d)   # azimuth angle\n",
    "    alt = pysolar.solar.get_altitude(latitude_deg, longitude_deg, d)  # altitude angle\n",
    "    # Unit vector pointing at the sun. RHR coords with x west, y south\n",
    "    uVecSun = array([   sin((-180 + azi) * rpd) * cos(alt * rpd),\n",
    "                        cos((-180 + azi) * rpd) * cos(alt * rpd),\n",
    "                        sin(alt * rpd)])\n",
    "    # Unit vector normal to the panel. RHR coords with x west, y south\n",
    "    uVecPanel = array([ sin((-180 + dir) * rpd) * sin(elev * rpd),\n",
    "                        cos((-180 + dir) * rpd) * sin(elev * rpd),\n",
    "                        cos(elev * rpd)])\n",
    "    # Reduce by the dot product between the sun vector and the panel vector\n",
    "    rad = pysolar.solar.radiation.get_radiation_direct(d, alt) * dot(uVecSun,uVecPanel)\n",
    "    if rad < 0: rad = 0   # sun is behind panel\n",
    "    return rad"
   ]
  },
  {
   "cell_type": "markdown",
   "metadata": {},
   "source": [
    "For PV generation capacity, the radiation needs to be multiplied by an effective area of solar panels. That area will be the actual area multiplied by the efficiency in turning solar energy into power in the battery -- probably about 1/7 to 1/5 of the actual surface area. The effective area is about the same as the installed capacity in kW.\n",
    "\n",
    "For solar heat gain from a window, the radiation needs to be multiplied by an effective area for the window, including the effects of open glazed area over total area, and the transmittance of the open area.\n",
    "\n",
    "This code looks at solar radiation intensity as a function of the time of day for both midwinter and midsummer. In both cases you will get the highest total energy from a panel facing south. The best elevation angle for the panel will depend on the time of year, since the sun will be lower in the sky in winter and higher in summer. You could adjust through the year, or just pick a fixed angle that best meets your requirements.\n",
    "\n",
    "Note that the peak output at solar noon moves by about an hour due to daylight savings time."
   ]
  },
  {
   "cell_type": "code",
   "execution_count": null,
   "metadata": {},
   "outputs": [],
   "source": [
    "el = 44            # elevation of the panel, 0 degrees for horizontal\n",
    "di = 180           # compass direction for the panel, 180 degrees for south\n",
    "\n",
    "timezone = pytz.timezone(\"America/Toronto\")  # includes Kingston\n",
    "s = linspace(5,21,100)    # 0500 to 2100 covers the daytime range of interest in Kingston\n",
    "i = s.copy()              # intensity vectors for differnet dates\n",
    "i1 = s.copy()\n",
    "i2 = s.copy()\n",
    "for j in range(0,len(s)): # for all the different hours in the day \n",
    "    sh = int(s[j])        # convert to hours and minutes\n",
    "    sm = int((s[j]-sh)*60)\n",
    "    # pysolar 0.8 requires timezone aware datetimes\n",
    "    d = timezone.localize(datetime.datetime(2018, 12, 21, sh,sm))  # December\n",
    "    i[j] = solarR(d,el,di)\n",
    "    d = timezone.localize(datetime.datetime(2019, 6, 21, sh,sm))   # June\n",
    "    i1[j] = solarR(d,el,di)\n",
    "    d = timezone.localize(datetime.datetime(2019, 2, 15, sh,sm))   # June\n",
    "    i2[j] = solarR(d,el,di)\n",
    "\n",
    "plot(s,i,label = 'Winter Solstice')\n",
    "plot(s,i1,label = 'Summer Solstice')\n",
    "plot(s,i2,label = d)\n",
    "grid()\n",
    "legend()\n",
    "xlabel('Local Time of Day [hours]')\n",
    "ylabel('Radiation Intensity [W/m**2]')"
   ]
  },
  {
   "cell_type": "markdown",
   "metadata": {},
   "source": [
    "We can get a total insolation energy for the day by taking then mean of the intensity and multiplying by the number of hours we averaged over. The factor of 1000 converst from Watts to kiloWatts."
   ]
  },
  {
   "cell_type": "code",
   "execution_count": null,
   "metadata": {},
   "outputs": [],
   "source": [
    "daily = mean(i) * (21-5) / 1000\n",
    "daily1 = mean(i1) * (21-5) / 1000 \n",
    "daily2 = mean(i2) * (21-5) / 1000 \n",
    "print('For a panel facing compass direction {0:4d} deg and elevated {1:2d} deg above horizontal:'.format(di,el))\n",
    "print('  Mean Daily Insolation {0:5.2f} kWh/m^2 at Summer Solstice under Clear Skies'.format(daily1))\n",
    "print('                    and {0:5.2f} kWh/m^2 at Winter Solstice under Clear Skies'.format(daily))\n",
    "print('                    and {0:5.2f} kWh/m^2 '.format(daily2,d),d)"
   ]
  },
  {
   "cell_type": "markdown",
   "metadata": {},
   "source": [
    "## Kingston is a pretty sunny place\n",
    "Still, we need data like https://www.nrcan.gc.ca/18366 to bring us back to the real world with geographic data for actual average insolation values. The Mean daily global insolation (kWh/m2 or full sun hours (h)) for each month of the year gives an idea of the actual potential for harvesting solar energy over the course of the year.\n",
    "\n",
    "I extracted some information from that huge dataset and saved it as \"Kingston ON kWh m2.csv\". The raw values may be hard to read in the file, but they can be easily incorporated into a spreadsheet, or read into Python as a CSV file with pandas. All of these numbers should be smaller than the clear sky values calculated for the corresponding cases.\n"
   ]
  },
  {
   "cell_type": "code",
   "execution_count": null,
   "metadata": {},
   "outputs": [],
   "source": [
    "df = pandas.read_csv('Kingston ON kWh m2.csv')\n",
    "df"
   ]
  },
  {
   "cell_type": "code",
   "execution_count": null,
   "metadata": {},
   "outputs": [],
   "source": []
  },
  {
   "cell_type": "code",
   "execution_count": null,
   "metadata": {},
   "outputs": [],
   "source": []
  }
 ],
 "metadata": {
  "kernelspec": {
   "display_name": "Python 3",
   "language": "python",
   "name": "python3"
  },
  "language_info": {
   "codemirror_mode": {
    "name": "ipython",
    "version": 3
   },
   "file_extension": ".py",
   "mimetype": "text/x-python",
   "name": "python",
   "nbconvert_exporter": "python",
   "pygments_lexer": "ipython3",
   "version": "3.6.8"
  }
 },
 "nbformat": 4,
 "nbformat_minor": 2
}
