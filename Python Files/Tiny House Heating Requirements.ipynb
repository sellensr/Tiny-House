{
 "cells": [
  {
   "cell_type": "code",
   "execution_count": 1,
   "metadata": {},
   "outputs": [],
   "source": [
    "%matplotlib inline\n",
    "from matplotlib.pyplot import *\n",
    "from numpy import *\n",
    "# Don't import too much globally like we did pyplot and numpy\n",
    "# pandas will break datetime if they are imported globally.\n",
    "import datetime\n",
    "import pytz\n",
    "import pysolar\n",
    "import pandas              # pandas for data science\n",
    "\n",
    "# This lets you make the default figure size larger (or smaller)\n",
    "from IPython.core.pylabtools import figsize\n",
    "figsize(10, 5)"
   ]
  },
  {
   "cell_type": "markdown",
   "metadata": {},
   "source": [
    "## Tiny House Specifications for Group _______\n",
    "\n",
    "Location:________________________________________________________________________________________\n",
    "\n",
    "<table>\n",
    "    <tr><th></th><th>Quantity</th><th>units</th><th>Quantity</th><th>units</th></tr>\n",
    "    <tr><td> Interior Length</td><td></td><td>$\\rm ft$</td><td></td><td>$\\rm m$</td></tr>\n",
    "    </table>"
   ]
  },
  {
   "cell_type": "code",
   "execution_count": null,
   "metadata": {},
   "outputs": [],
   "source": []
  }
 ],
 "metadata": {
  "kernelspec": {
   "display_name": "Python 3",
   "language": "python",
   "name": "python3"
  },
  "language_info": {
   "codemirror_mode": {
    "name": "ipython",
    "version": 3
   },
   "file_extension": ".py",
   "mimetype": "text/x-python",
   "name": "python",
   "nbconvert_exporter": "python",
   "pygments_lexer": "ipython3",
   "version": "3.6.6"
  }
 },
 "nbformat": 4,
 "nbformat_minor": 2
}
